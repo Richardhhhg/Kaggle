{
 "cells": [
  {
   "cell_type": "code",
   "execution_count": 1,
   "id": "ebf637b0",
   "metadata": {
    "_cell_guid": "b1076dfc-b9ad-4769-8c92-a6c4dae69d19",
    "_uuid": "8f2839f25d086af736a60e9eeb907d3b93b6e0e5",
    "execution": {
     "iopub.execute_input": "2025-03-13T01:39:22.299471Z",
     "iopub.status.busy": "2025-03-13T01:39:22.299095Z",
     "iopub.status.idle": "2025-03-13T01:39:25.026449Z",
     "shell.execute_reply": "2025-03-13T01:39:25.025368Z"
    },
    "papermill": {
     "duration": 2.738932,
     "end_time": "2025-03-13T01:39:25.028243",
     "exception": false,
     "start_time": "2025-03-13T01:39:22.289311",
     "status": "completed"
    },
    "tags": []
   },
   "outputs": [],
   "source": [
    "import numpy as np\n",
    "import pandas as pd\n",
    "import matplotlib.pyplot as plt\n",
    "import seaborn as sns\n",
    "import warnings \n",
    "warnings.filterwarnings(\"ignore\", category=FutureWarning, module=\"seaborn\")"
   ]
  },
  {
   "cell_type": "markdown",
   "id": "a8ce07de",
   "metadata": {
    "papermill": {
     "duration": 0.00721,
     "end_time": "2025-03-13T01:39:25.043553",
     "exception": false,
     "start_time": "2025-03-13T01:39:25.036343",
     "status": "completed"
    },
    "tags": []
   },
   "source": [
    "# EDA and Things"
   ]
  },
  {
   "cell_type": "code",
   "execution_count": 2,
   "id": "b7bf4d76",
   "metadata": {
    "execution": {
     "iopub.execute_input": "2025-03-13T01:39:25.060829Z",
     "iopub.status.busy": "2025-03-13T01:39:25.060245Z",
     "iopub.status.idle": "2025-03-13T01:39:25.088422Z",
     "shell.execute_reply": "2025-03-13T01:39:25.087137Z"
    },
    "papermill": {
     "duration": 0.03876,
     "end_time": "2025-03-13T01:39:25.090220",
     "exception": false,
     "start_time": "2025-03-13T01:39:25.051460",
     "status": "completed"
    },
    "tags": []
   },
   "outputs": [],
   "source": [
    "df_raw = pd.read_csv(\"/kaggle/input/playground-series-s5e3/train.csv\")"
   ]
  },
  {
   "cell_type": "code",
   "execution_count": 3,
   "id": "e066bf9c",
   "metadata": {
    "execution": {
     "iopub.execute_input": "2025-03-13T01:39:25.107169Z",
     "iopub.status.busy": "2025-03-13T01:39:25.106773Z",
     "iopub.status.idle": "2025-03-13T01:39:25.140608Z",
     "shell.execute_reply": "2025-03-13T01:39:25.139440Z"
    },
    "papermill": {
     "duration": 0.044186,
     "end_time": "2025-03-13T01:39:25.142433",
     "exception": false,
     "start_time": "2025-03-13T01:39:25.098247",
     "status": "completed"
    },
    "tags": []
   },
   "outputs": [
    {
     "data": {
      "text/html": [
       "<div>\n",
       "<style scoped>\n",
       "    .dataframe tbody tr th:only-of-type {\n",
       "        vertical-align: middle;\n",
       "    }\n",
       "\n",
       "    .dataframe tbody tr th {\n",
       "        vertical-align: top;\n",
       "    }\n",
       "\n",
       "    .dataframe thead th {\n",
       "        text-align: right;\n",
       "    }\n",
       "</style>\n",
       "<table border=\"1\" class=\"dataframe\">\n",
       "  <thead>\n",
       "    <tr style=\"text-align: right;\">\n",
       "      <th></th>\n",
       "      <th>id</th>\n",
       "      <th>day</th>\n",
       "      <th>pressure</th>\n",
       "      <th>maxtemp</th>\n",
       "      <th>temparature</th>\n",
       "      <th>mintemp</th>\n",
       "      <th>dewpoint</th>\n",
       "      <th>humidity</th>\n",
       "      <th>cloud</th>\n",
       "      <th>sunshine</th>\n",
       "      <th>winddirection</th>\n",
       "      <th>windspeed</th>\n",
       "      <th>rainfall</th>\n",
       "    </tr>\n",
       "  </thead>\n",
       "  <tbody>\n",
       "    <tr>\n",
       "      <th>0</th>\n",
       "      <td>0</td>\n",
       "      <td>1</td>\n",
       "      <td>1017.4</td>\n",
       "      <td>21.2</td>\n",
       "      <td>20.6</td>\n",
       "      <td>19.9</td>\n",
       "      <td>19.4</td>\n",
       "      <td>87.0</td>\n",
       "      <td>88.0</td>\n",
       "      <td>1.1</td>\n",
       "      <td>60.0</td>\n",
       "      <td>17.2</td>\n",
       "      <td>1</td>\n",
       "    </tr>\n",
       "    <tr>\n",
       "      <th>1</th>\n",
       "      <td>1</td>\n",
       "      <td>2</td>\n",
       "      <td>1019.5</td>\n",
       "      <td>16.2</td>\n",
       "      <td>16.9</td>\n",
       "      <td>15.8</td>\n",
       "      <td>15.4</td>\n",
       "      <td>95.0</td>\n",
       "      <td>91.0</td>\n",
       "      <td>0.0</td>\n",
       "      <td>50.0</td>\n",
       "      <td>21.9</td>\n",
       "      <td>1</td>\n",
       "    </tr>\n",
       "    <tr>\n",
       "      <th>2</th>\n",
       "      <td>2</td>\n",
       "      <td>3</td>\n",
       "      <td>1024.1</td>\n",
       "      <td>19.4</td>\n",
       "      <td>16.1</td>\n",
       "      <td>14.6</td>\n",
       "      <td>9.3</td>\n",
       "      <td>75.0</td>\n",
       "      <td>47.0</td>\n",
       "      <td>8.3</td>\n",
       "      <td>70.0</td>\n",
       "      <td>18.1</td>\n",
       "      <td>1</td>\n",
       "    </tr>\n",
       "    <tr>\n",
       "      <th>3</th>\n",
       "      <td>3</td>\n",
       "      <td>4</td>\n",
       "      <td>1013.4</td>\n",
       "      <td>18.1</td>\n",
       "      <td>17.8</td>\n",
       "      <td>16.9</td>\n",
       "      <td>16.8</td>\n",
       "      <td>95.0</td>\n",
       "      <td>95.0</td>\n",
       "      <td>0.0</td>\n",
       "      <td>60.0</td>\n",
       "      <td>35.6</td>\n",
       "      <td>1</td>\n",
       "    </tr>\n",
       "    <tr>\n",
       "      <th>4</th>\n",
       "      <td>4</td>\n",
       "      <td>5</td>\n",
       "      <td>1021.8</td>\n",
       "      <td>21.3</td>\n",
       "      <td>18.4</td>\n",
       "      <td>15.2</td>\n",
       "      <td>9.6</td>\n",
       "      <td>52.0</td>\n",
       "      <td>45.0</td>\n",
       "      <td>3.6</td>\n",
       "      <td>40.0</td>\n",
       "      <td>24.8</td>\n",
       "      <td>0</td>\n",
       "    </tr>\n",
       "  </tbody>\n",
       "</table>\n",
       "</div>"
      ],
      "text/plain": [
       "   id  day  pressure  maxtemp  temparature  mintemp  dewpoint  humidity  \\\n",
       "0   0    1    1017.4     21.2         20.6     19.9      19.4      87.0   \n",
       "1   1    2    1019.5     16.2         16.9     15.8      15.4      95.0   \n",
       "2   2    3    1024.1     19.4         16.1     14.6       9.3      75.0   \n",
       "3   3    4    1013.4     18.1         17.8     16.9      16.8      95.0   \n",
       "4   4    5    1021.8     21.3         18.4     15.2       9.6      52.0   \n",
       "\n",
       "   cloud  sunshine  winddirection  windspeed  rainfall  \n",
       "0   88.0       1.1           60.0       17.2         1  \n",
       "1   91.0       0.0           50.0       21.9         1  \n",
       "2   47.0       8.3           70.0       18.1         1  \n",
       "3   95.0       0.0           60.0       35.6         1  \n",
       "4   45.0       3.6           40.0       24.8         0  "
      ]
     },
     "execution_count": 3,
     "metadata": {},
     "output_type": "execute_result"
    }
   ],
   "source": [
    "df_raw.head()"
   ]
  },
  {
   "cell_type": "code",
   "execution_count": 4,
   "id": "ff551d75",
   "metadata": {
    "execution": {
     "iopub.execute_input": "2025-03-13T01:39:25.159477Z",
     "iopub.status.busy": "2025-03-13T01:39:25.159118Z",
     "iopub.status.idle": "2025-03-13T01:39:25.203665Z",
     "shell.execute_reply": "2025-03-13T01:39:25.202514Z"
    },
    "papermill": {
     "duration": 0.055175,
     "end_time": "2025-03-13T01:39:25.205610",
     "exception": false,
     "start_time": "2025-03-13T01:39:25.150435",
     "status": "completed"
    },
    "tags": []
   },
   "outputs": [
    {
     "data": {
      "text/html": [
       "<div>\n",
       "<style scoped>\n",
       "    .dataframe tbody tr th:only-of-type {\n",
       "        vertical-align: middle;\n",
       "    }\n",
       "\n",
       "    .dataframe tbody tr th {\n",
       "        vertical-align: top;\n",
       "    }\n",
       "\n",
       "    .dataframe thead th {\n",
       "        text-align: right;\n",
       "    }\n",
       "</style>\n",
       "<table border=\"1\" class=\"dataframe\">\n",
       "  <thead>\n",
       "    <tr style=\"text-align: right;\">\n",
       "      <th></th>\n",
       "      <th>id</th>\n",
       "      <th>day</th>\n",
       "      <th>pressure</th>\n",
       "      <th>maxtemp</th>\n",
       "      <th>temparature</th>\n",
       "      <th>mintemp</th>\n",
       "      <th>dewpoint</th>\n",
       "      <th>humidity</th>\n",
       "      <th>cloud</th>\n",
       "      <th>sunshine</th>\n",
       "      <th>winddirection</th>\n",
       "      <th>windspeed</th>\n",
       "      <th>rainfall</th>\n",
       "    </tr>\n",
       "  </thead>\n",
       "  <tbody>\n",
       "    <tr>\n",
       "      <th>count</th>\n",
       "      <td>2190.000000</td>\n",
       "      <td>2190.000000</td>\n",
       "      <td>2190.000000</td>\n",
       "      <td>2190.000000</td>\n",
       "      <td>2190.000000</td>\n",
       "      <td>2190.000000</td>\n",
       "      <td>2190.000000</td>\n",
       "      <td>2190.000000</td>\n",
       "      <td>2190.000000</td>\n",
       "      <td>2190.000000</td>\n",
       "      <td>2190.000000</td>\n",
       "      <td>2190.000000</td>\n",
       "      <td>2190.000000</td>\n",
       "    </tr>\n",
       "    <tr>\n",
       "      <th>mean</th>\n",
       "      <td>1094.500000</td>\n",
       "      <td>179.948402</td>\n",
       "      <td>1013.602146</td>\n",
       "      <td>26.365799</td>\n",
       "      <td>23.953059</td>\n",
       "      <td>22.170091</td>\n",
       "      <td>20.454566</td>\n",
       "      <td>82.036530</td>\n",
       "      <td>75.721918</td>\n",
       "      <td>3.744429</td>\n",
       "      <td>104.863151</td>\n",
       "      <td>21.804703</td>\n",
       "      <td>0.753425</td>\n",
       "    </tr>\n",
       "    <tr>\n",
       "      <th>std</th>\n",
       "      <td>632.342866</td>\n",
       "      <td>105.203592</td>\n",
       "      <td>5.655366</td>\n",
       "      <td>5.654330</td>\n",
       "      <td>5.222410</td>\n",
       "      <td>5.059120</td>\n",
       "      <td>5.288406</td>\n",
       "      <td>7.800654</td>\n",
       "      <td>18.026498</td>\n",
       "      <td>3.626327</td>\n",
       "      <td>80.002416</td>\n",
       "      <td>9.898659</td>\n",
       "      <td>0.431116</td>\n",
       "    </tr>\n",
       "    <tr>\n",
       "      <th>min</th>\n",
       "      <td>0.000000</td>\n",
       "      <td>1.000000</td>\n",
       "      <td>999.000000</td>\n",
       "      <td>10.400000</td>\n",
       "      <td>7.400000</td>\n",
       "      <td>4.000000</td>\n",
       "      <td>-0.300000</td>\n",
       "      <td>39.000000</td>\n",
       "      <td>2.000000</td>\n",
       "      <td>0.000000</td>\n",
       "      <td>10.000000</td>\n",
       "      <td>4.400000</td>\n",
       "      <td>0.000000</td>\n",
       "    </tr>\n",
       "    <tr>\n",
       "      <th>25%</th>\n",
       "      <td>547.250000</td>\n",
       "      <td>89.000000</td>\n",
       "      <td>1008.600000</td>\n",
       "      <td>21.300000</td>\n",
       "      <td>19.300000</td>\n",
       "      <td>17.700000</td>\n",
       "      <td>16.800000</td>\n",
       "      <td>77.000000</td>\n",
       "      <td>69.000000</td>\n",
       "      <td>0.400000</td>\n",
       "      <td>40.000000</td>\n",
       "      <td>14.125000</td>\n",
       "      <td>1.000000</td>\n",
       "    </tr>\n",
       "    <tr>\n",
       "      <th>50%</th>\n",
       "      <td>1094.500000</td>\n",
       "      <td>178.500000</td>\n",
       "      <td>1013.000000</td>\n",
       "      <td>27.800000</td>\n",
       "      <td>25.500000</td>\n",
       "      <td>23.850000</td>\n",
       "      <td>22.150000</td>\n",
       "      <td>82.000000</td>\n",
       "      <td>83.000000</td>\n",
       "      <td>2.400000</td>\n",
       "      <td>70.000000</td>\n",
       "      <td>20.500000</td>\n",
       "      <td>1.000000</td>\n",
       "    </tr>\n",
       "    <tr>\n",
       "      <th>75%</th>\n",
       "      <td>1641.750000</td>\n",
       "      <td>270.000000</td>\n",
       "      <td>1017.775000</td>\n",
       "      <td>31.200000</td>\n",
       "      <td>28.400000</td>\n",
       "      <td>26.400000</td>\n",
       "      <td>25.000000</td>\n",
       "      <td>88.000000</td>\n",
       "      <td>88.000000</td>\n",
       "      <td>6.800000</td>\n",
       "      <td>200.000000</td>\n",
       "      <td>27.900000</td>\n",
       "      <td>1.000000</td>\n",
       "    </tr>\n",
       "    <tr>\n",
       "      <th>max</th>\n",
       "      <td>2189.000000</td>\n",
       "      <td>365.000000</td>\n",
       "      <td>1034.600000</td>\n",
       "      <td>36.000000</td>\n",
       "      <td>31.500000</td>\n",
       "      <td>29.800000</td>\n",
       "      <td>26.700000</td>\n",
       "      <td>98.000000</td>\n",
       "      <td>100.000000</td>\n",
       "      <td>12.100000</td>\n",
       "      <td>300.000000</td>\n",
       "      <td>59.500000</td>\n",
       "      <td>1.000000</td>\n",
       "    </tr>\n",
       "  </tbody>\n",
       "</table>\n",
       "</div>"
      ],
      "text/plain": [
       "                id          day     pressure      maxtemp  temparature  \\\n",
       "count  2190.000000  2190.000000  2190.000000  2190.000000  2190.000000   \n",
       "mean   1094.500000   179.948402  1013.602146    26.365799    23.953059   \n",
       "std     632.342866   105.203592     5.655366     5.654330     5.222410   \n",
       "min       0.000000     1.000000   999.000000    10.400000     7.400000   \n",
       "25%     547.250000    89.000000  1008.600000    21.300000    19.300000   \n",
       "50%    1094.500000   178.500000  1013.000000    27.800000    25.500000   \n",
       "75%    1641.750000   270.000000  1017.775000    31.200000    28.400000   \n",
       "max    2189.000000   365.000000  1034.600000    36.000000    31.500000   \n",
       "\n",
       "           mintemp     dewpoint     humidity        cloud     sunshine  \\\n",
       "count  2190.000000  2190.000000  2190.000000  2190.000000  2190.000000   \n",
       "mean     22.170091    20.454566    82.036530    75.721918     3.744429   \n",
       "std       5.059120     5.288406     7.800654    18.026498     3.626327   \n",
       "min       4.000000    -0.300000    39.000000     2.000000     0.000000   \n",
       "25%      17.700000    16.800000    77.000000    69.000000     0.400000   \n",
       "50%      23.850000    22.150000    82.000000    83.000000     2.400000   \n",
       "75%      26.400000    25.000000    88.000000    88.000000     6.800000   \n",
       "max      29.800000    26.700000    98.000000   100.000000    12.100000   \n",
       "\n",
       "       winddirection    windspeed     rainfall  \n",
       "count    2190.000000  2190.000000  2190.000000  \n",
       "mean      104.863151    21.804703     0.753425  \n",
       "std        80.002416     9.898659     0.431116  \n",
       "min        10.000000     4.400000     0.000000  \n",
       "25%        40.000000    14.125000     1.000000  \n",
       "50%        70.000000    20.500000     1.000000  \n",
       "75%       200.000000    27.900000     1.000000  \n",
       "max       300.000000    59.500000     1.000000  "
      ]
     },
     "execution_count": 4,
     "metadata": {},
     "output_type": "execute_result"
    }
   ],
   "source": [
    "df_raw.describe()"
   ]
  },
  {
   "cell_type": "code",
   "execution_count": 5,
   "id": "a9344235",
   "metadata": {
    "execution": {
     "iopub.execute_input": "2025-03-13T01:39:25.223087Z",
     "iopub.status.busy": "2025-03-13T01:39:25.222682Z",
     "iopub.status.idle": "2025-03-13T01:39:25.249431Z",
     "shell.execute_reply": "2025-03-13T01:39:25.248057Z"
    },
    "papermill": {
     "duration": 0.037546,
     "end_time": "2025-03-13T01:39:25.251411",
     "exception": false,
     "start_time": "2025-03-13T01:39:25.213865",
     "status": "completed"
    },
    "tags": []
   },
   "outputs": [
    {
     "name": "stdout",
     "output_type": "stream",
     "text": [
      "<class 'pandas.core.frame.DataFrame'>\n",
      "RangeIndex: 2190 entries, 0 to 2189\n",
      "Data columns (total 13 columns):\n",
      " #   Column         Non-Null Count  Dtype  \n",
      "---  ------         --------------  -----  \n",
      " 0   id             2190 non-null   int64  \n",
      " 1   day            2190 non-null   int64  \n",
      " 2   pressure       2190 non-null   float64\n",
      " 3   maxtemp        2190 non-null   float64\n",
      " 4   temparature    2190 non-null   float64\n",
      " 5   mintemp        2190 non-null   float64\n",
      " 6   dewpoint       2190 non-null   float64\n",
      " 7   humidity       2190 non-null   float64\n",
      " 8   cloud          2190 non-null   float64\n",
      " 9   sunshine       2190 non-null   float64\n",
      " 10  winddirection  2190 non-null   float64\n",
      " 11  windspeed      2190 non-null   float64\n",
      " 12  rainfall       2190 non-null   int64  \n",
      "dtypes: float64(10), int64(3)\n",
      "memory usage: 222.5 KB\n"
     ]
    }
   ],
   "source": [
    "df_raw.info()"
   ]
  },
  {
   "cell_type": "code",
   "execution_count": 6,
   "id": "7246f492",
   "metadata": {
    "execution": {
     "iopub.execute_input": "2025-03-13T01:39:25.269492Z",
     "iopub.status.busy": "2025-03-13T01:39:25.269102Z",
     "iopub.status.idle": "2025-03-13T01:39:25.276771Z",
     "shell.execute_reply": "2025-03-13T01:39:25.275638Z"
    },
    "papermill": {
     "duration": 0.019095,
     "end_time": "2025-03-13T01:39:25.278746",
     "exception": false,
     "start_time": "2025-03-13T01:39:25.259651",
     "status": "completed"
    },
    "tags": []
   },
   "outputs": [],
   "source": [
    "df_clean = df_raw.drop(columns=[\"id\"])"
   ]
  },
  {
   "cell_type": "markdown",
   "id": "b150580e",
   "metadata": {
    "papermill": {
     "duration": 0.007977,
     "end_time": "2025-03-13T01:39:25.295362",
     "exception": false,
     "start_time": "2025-03-13T01:39:25.287385",
     "status": "completed"
    },
    "tags": []
   },
   "source": [
    "## Feature Engineering\n",
    "### Things to Alter:\n",
    "- Very Skewed Things (Apply Log Transformation): Literally Everything is super skewed\n",
    "- Adding lots of interaction terms for testing in cross validation\n",
    "- Adding interaction terms for testing in cross validation"
   ]
  },
  {
   "cell_type": "code",
   "execution_count": 7,
   "id": "3da5f540",
   "metadata": {
    "execution": {
     "iopub.execute_input": "2025-03-13T01:39:25.313631Z",
     "iopub.status.busy": "2025-03-13T01:39:25.313238Z",
     "iopub.status.idle": "2025-03-13T01:39:25.635496Z",
     "shell.execute_reply": "2025-03-13T01:39:25.634222Z"
    },
    "papermill": {
     "duration": 0.333843,
     "end_time": "2025-03-13T01:39:25.637482",
     "exception": false,
     "start_time": "2025-03-13T01:39:25.303639",
     "status": "completed"
    },
    "tags": []
   },
   "outputs": [],
   "source": [
    "from sklearn.model_selection import train_test_split\n",
    "from sklearn.preprocessing import StandardScaler"
   ]
  },
  {
   "cell_type": "code",
   "execution_count": 8,
   "id": "cf3507e6",
   "metadata": {
    "execution": {
     "iopub.execute_input": "2025-03-13T01:39:25.655360Z",
     "iopub.status.busy": "2025-03-13T01:39:25.654941Z",
     "iopub.status.idle": "2025-03-13T01:39:25.659689Z",
     "shell.execute_reply": "2025-03-13T01:39:25.658573Z"
    },
    "papermill": {
     "duration": 0.015544,
     "end_time": "2025-03-13T01:39:25.661353",
     "exception": false,
     "start_time": "2025-03-13T01:39:25.645809",
     "status": "completed"
    },
    "tags": []
   },
   "outputs": [],
   "source": [
    "features = ['pressure', 'maxtemp', 'temparature', 'mintemp', 'dewpoint',\n",
    "            'humidity', 'cloud', 'sunshine', 'winddirection', 'windspeed']"
   ]
  },
  {
   "cell_type": "code",
   "execution_count": 9,
   "id": "754fcaee",
   "metadata": {
    "execution": {
     "iopub.execute_input": "2025-03-13T01:39:25.678814Z",
     "iopub.status.busy": "2025-03-13T01:39:25.678459Z",
     "iopub.status.idle": "2025-03-13T01:39:25.686577Z",
     "shell.execute_reply": "2025-03-13T01:39:25.685529Z"
    },
    "papermill": {
     "duration": 0.019148,
     "end_time": "2025-03-13T01:39:25.688660",
     "exception": false,
     "start_time": "2025-03-13T01:39:25.669512",
     "status": "completed"
    },
    "tags": []
   },
   "outputs": [],
   "source": [
    "X = df_clean.drop(columns=[\"rainfall\"])\n",
    "y = df_clean[\"rainfall\"]\n",
    "X_train, X_val, y_train, y_val = train_test_split(X, y, test_size=0.3, random_state=42)"
   ]
  },
  {
   "cell_type": "code",
   "execution_count": 10,
   "id": "5b79b430",
   "metadata": {
    "execution": {
     "iopub.execute_input": "2025-03-13T01:39:25.706650Z",
     "iopub.status.busy": "2025-03-13T01:39:25.706278Z",
     "iopub.status.idle": "2025-03-13T01:39:25.742389Z",
     "shell.execute_reply": "2025-03-13T01:39:25.741090Z"
    },
    "papermill": {
     "duration": 0.047418,
     "end_time": "2025-03-13T01:39:25.744283",
     "exception": false,
     "start_time": "2025-03-13T01:39:25.696865",
     "status": "completed"
    },
    "tags": []
   },
   "outputs": [
    {
     "data": {
      "text/html": [
       "<div>\n",
       "<style scoped>\n",
       "    .dataframe tbody tr th:only-of-type {\n",
       "        vertical-align: middle;\n",
       "    }\n",
       "\n",
       "    .dataframe tbody tr th {\n",
       "        vertical-align: top;\n",
       "    }\n",
       "\n",
       "    .dataframe thead th {\n",
       "        text-align: right;\n",
       "    }\n",
       "</style>\n",
       "<table border=\"1\" class=\"dataframe\">\n",
       "  <thead>\n",
       "    <tr style=\"text-align: right;\">\n",
       "      <th></th>\n",
       "      <th>day</th>\n",
       "      <th>pressure</th>\n",
       "      <th>maxtemp</th>\n",
       "      <th>temparature</th>\n",
       "      <th>mintemp</th>\n",
       "      <th>dewpoint</th>\n",
       "      <th>humidity</th>\n",
       "      <th>cloud</th>\n",
       "      <th>sunshine</th>\n",
       "      <th>winddirection</th>\n",
       "      <th>windspeed</th>\n",
       "    </tr>\n",
       "  </thead>\n",
       "  <tbody>\n",
       "    <tr>\n",
       "      <th>count</th>\n",
       "      <td>1533.000000</td>\n",
       "      <td>1533.000000</td>\n",
       "      <td>1533.000000</td>\n",
       "      <td>1533.000000</td>\n",
       "      <td>1533.000000</td>\n",
       "      <td>1533.000000</td>\n",
       "      <td>1533.000000</td>\n",
       "      <td>1533.000000</td>\n",
       "      <td>1533.000000</td>\n",
       "      <td>1533.000000</td>\n",
       "      <td>1533.000000</td>\n",
       "    </tr>\n",
       "    <tr>\n",
       "      <th>mean</th>\n",
       "      <td>181.801044</td>\n",
       "      <td>1013.731768</td>\n",
       "      <td>26.336138</td>\n",
       "      <td>23.934312</td>\n",
       "      <td>22.155121</td>\n",
       "      <td>20.417091</td>\n",
       "      <td>82.059361</td>\n",
       "      <td>75.684279</td>\n",
       "      <td>3.721918</td>\n",
       "      <td>104.188063</td>\n",
       "      <td>21.667254</td>\n",
       "    </tr>\n",
       "    <tr>\n",
       "      <th>std</th>\n",
       "      <td>105.415367</td>\n",
       "      <td>5.589766</td>\n",
       "      <td>5.630754</td>\n",
       "      <td>5.177435</td>\n",
       "      <td>5.000233</td>\n",
       "      <td>5.242251</td>\n",
       "      <td>7.661899</td>\n",
       "      <td>17.929969</td>\n",
       "      <td>3.604967</td>\n",
       "      <td>79.774492</td>\n",
       "      <td>9.949474</td>\n",
       "    </tr>\n",
       "    <tr>\n",
       "      <th>min</th>\n",
       "      <td>1.000000</td>\n",
       "      <td>999.000000</td>\n",
       "      <td>10.800000</td>\n",
       "      <td>7.400000</td>\n",
       "      <td>4.000000</td>\n",
       "      <td>-0.300000</td>\n",
       "      <td>39.000000</td>\n",
       "      <td>2.000000</td>\n",
       "      <td>0.000000</td>\n",
       "      <td>10.000000</td>\n",
       "      <td>4.400000</td>\n",
       "    </tr>\n",
       "    <tr>\n",
       "      <th>25%</th>\n",
       "      <td>91.000000</td>\n",
       "      <td>1008.700000</td>\n",
       "      <td>21.300000</td>\n",
       "      <td>19.400000</td>\n",
       "      <td>17.700000</td>\n",
       "      <td>16.800000</td>\n",
       "      <td>77.000000</td>\n",
       "      <td>69.000000</td>\n",
       "      <td>0.400000</td>\n",
       "      <td>40.000000</td>\n",
       "      <td>14.000000</td>\n",
       "    </tr>\n",
       "    <tr>\n",
       "      <th>50%</th>\n",
       "      <td>181.000000</td>\n",
       "      <td>1013.300000</td>\n",
       "      <td>27.700000</td>\n",
       "      <td>25.400000</td>\n",
       "      <td>23.700000</td>\n",
       "      <td>22.100000</td>\n",
       "      <td>82.000000</td>\n",
       "      <td>83.000000</td>\n",
       "      <td>2.400000</td>\n",
       "      <td>70.000000</td>\n",
       "      <td>20.500000</td>\n",
       "    </tr>\n",
       "    <tr>\n",
       "      <th>75%</th>\n",
       "      <td>274.000000</td>\n",
       "      <td>1017.800000</td>\n",
       "      <td>31.100000</td>\n",
       "      <td>28.300000</td>\n",
       "      <td>26.400000</td>\n",
       "      <td>24.900000</td>\n",
       "      <td>87.000000</td>\n",
       "      <td>88.000000</td>\n",
       "      <td>6.700000</td>\n",
       "      <td>200.000000</td>\n",
       "      <td>27.600000</td>\n",
       "    </tr>\n",
       "    <tr>\n",
       "      <th>max</th>\n",
       "      <td>365.000000</td>\n",
       "      <td>1034.600000</td>\n",
       "      <td>36.000000</td>\n",
       "      <td>31.500000</td>\n",
       "      <td>29.800000</td>\n",
       "      <td>26.700000</td>\n",
       "      <td>98.000000</td>\n",
       "      <td>100.000000</td>\n",
       "      <td>12.000000</td>\n",
       "      <td>300.000000</td>\n",
       "      <td>59.500000</td>\n",
       "    </tr>\n",
       "  </tbody>\n",
       "</table>\n",
       "</div>"
      ],
      "text/plain": [
       "               day     pressure      maxtemp  temparature      mintemp  \\\n",
       "count  1533.000000  1533.000000  1533.000000  1533.000000  1533.000000   \n",
       "mean    181.801044  1013.731768    26.336138    23.934312    22.155121   \n",
       "std     105.415367     5.589766     5.630754     5.177435     5.000233   \n",
       "min       1.000000   999.000000    10.800000     7.400000     4.000000   \n",
       "25%      91.000000  1008.700000    21.300000    19.400000    17.700000   \n",
       "50%     181.000000  1013.300000    27.700000    25.400000    23.700000   \n",
       "75%     274.000000  1017.800000    31.100000    28.300000    26.400000   \n",
       "max     365.000000  1034.600000    36.000000    31.500000    29.800000   \n",
       "\n",
       "          dewpoint     humidity        cloud     sunshine  winddirection  \\\n",
       "count  1533.000000  1533.000000  1533.000000  1533.000000    1533.000000   \n",
       "mean     20.417091    82.059361    75.684279     3.721918     104.188063   \n",
       "std       5.242251     7.661899    17.929969     3.604967      79.774492   \n",
       "min      -0.300000    39.000000     2.000000     0.000000      10.000000   \n",
       "25%      16.800000    77.000000    69.000000     0.400000      40.000000   \n",
       "50%      22.100000    82.000000    83.000000     2.400000      70.000000   \n",
       "75%      24.900000    87.000000    88.000000     6.700000     200.000000   \n",
       "max      26.700000    98.000000   100.000000    12.000000     300.000000   \n",
       "\n",
       "         windspeed  \n",
       "count  1533.000000  \n",
       "mean     21.667254  \n",
       "std       9.949474  \n",
       "min       4.400000  \n",
       "25%      14.000000  \n",
       "50%      20.500000  \n",
       "75%      27.600000  \n",
       "max      59.500000  "
      ]
     },
     "execution_count": 10,
     "metadata": {},
     "output_type": "execute_result"
    }
   ],
   "source": [
    "X_train.describe()"
   ]
  },
  {
   "cell_type": "code",
   "execution_count": 11,
   "id": "70bfbdfc",
   "metadata": {
    "execution": {
     "iopub.execute_input": "2025-03-13T01:39:25.762245Z",
     "iopub.status.busy": "2025-03-13T01:39:25.761852Z",
     "iopub.status.idle": "2025-03-13T01:39:25.768778Z",
     "shell.execute_reply": "2025-03-13T01:39:25.767904Z"
    },
    "papermill": {
     "duration": 0.017732,
     "end_time": "2025-03-13T01:39:25.770473",
     "exception": false,
     "start_time": "2025-03-13T01:39:25.752741",
     "status": "completed"
    },
    "tags": []
   },
   "outputs": [],
   "source": [
    "def make_cool_features(df):\n",
    "    df_temp = df.copy()\n",
    "    # scaler = StandardScaler()\n",
    "    # df_temp[features] = scaler.fit_transform(df_temp[features])\n",
    "\n",
    "    for feature in features:\n",
    "        df_temp[f\"Log_{feature}\"] = np.log(df_temp[feature] + 1)\n",
    "\n",
    "    scaler = StandardScaler()\n",
    "    df_temp[df_temp.drop(columns=\"day\").columns] = scaler.fit_transform(df_temp[df_temp.drop(columns=\"day\").columns])\n",
    "\n",
    "    for i in range(len(features)-1):\n",
    "        # polynomial terms\n",
    "        df_temp[f\"{features[i]}2\"] = df_temp.apply(lambda x: x[features[i]]**2, axis=1)\n",
    "        df_temp[f\"{features[i]}3\"] = df_temp.apply(lambda x: x[features[i]]**3, axis=1)\n",
    "        for j in range(i+1, len(features)-1):\n",
    "            # interaction term\n",
    "            df_temp[f\"{features[i]}_{features[j]}\"] = df_temp[features[i]] * df_temp[features[j]]\n",
    "    \n",
    "    return df_temp"
   ]
  },
  {
   "cell_type": "code",
   "execution_count": 12,
   "id": "375f26ba",
   "metadata": {
    "execution": {
     "iopub.execute_input": "2025-03-13T01:39:25.788829Z",
     "iopub.status.busy": "2025-03-13T01:39:25.788483Z",
     "iopub.status.idle": "2025-03-13T01:39:26.179325Z",
     "shell.execute_reply": "2025-03-13T01:39:26.178145Z"
    },
    "papermill": {
     "duration": 0.402455,
     "end_time": "2025-03-13T01:39:26.181364",
     "exception": false,
     "start_time": "2025-03-13T01:39:25.778909",
     "status": "completed"
    },
    "tags": []
   },
   "outputs": [],
   "source": [
    "X_train_cool = make_cool_features(X_train)\n",
    "X_val_cool = make_cool_features(X_val)"
   ]
  },
  {
   "cell_type": "code",
   "execution_count": 13,
   "id": "1dddbf80",
   "metadata": {
    "execution": {
     "iopub.execute_input": "2025-03-13T01:39:26.199760Z",
     "iopub.status.busy": "2025-03-13T01:39:26.199414Z",
     "iopub.status.idle": "2025-03-13T01:39:26.224834Z",
     "shell.execute_reply": "2025-03-13T01:39:26.223725Z"
    },
    "papermill": {
     "duration": 0.036799,
     "end_time": "2025-03-13T01:39:26.226604",
     "exception": false,
     "start_time": "2025-03-13T01:39:26.189805",
     "status": "completed"
    },
    "tags": []
   },
   "outputs": [
    {
     "data": {
      "text/html": [
       "<div>\n",
       "<style scoped>\n",
       "    .dataframe tbody tr th:only-of-type {\n",
       "        vertical-align: middle;\n",
       "    }\n",
       "\n",
       "    .dataframe tbody tr th {\n",
       "        vertical-align: top;\n",
       "    }\n",
       "\n",
       "    .dataframe thead th {\n",
       "        text-align: right;\n",
       "    }\n",
       "</style>\n",
       "<table border=\"1\" class=\"dataframe\">\n",
       "  <thead>\n",
       "    <tr style=\"text-align: right;\">\n",
       "      <th></th>\n",
       "      <th>day</th>\n",
       "      <th>pressure</th>\n",
       "      <th>maxtemp</th>\n",
       "      <th>temparature</th>\n",
       "      <th>mintemp</th>\n",
       "      <th>dewpoint</th>\n",
       "      <th>humidity</th>\n",
       "      <th>cloud</th>\n",
       "      <th>sunshine</th>\n",
       "      <th>winddirection</th>\n",
       "      <th>...</th>\n",
       "      <th>humidity_winddirection</th>\n",
       "      <th>cloud2</th>\n",
       "      <th>cloud3</th>\n",
       "      <th>cloud_sunshine</th>\n",
       "      <th>cloud_winddirection</th>\n",
       "      <th>sunshine2</th>\n",
       "      <th>sunshine3</th>\n",
       "      <th>sunshine_winddirection</th>\n",
       "      <th>winddirection2</th>\n",
       "      <th>winddirection3</th>\n",
       "    </tr>\n",
       "  </thead>\n",
       "  <tbody>\n",
       "    <tr>\n",
       "      <th>576</th>\n",
       "      <td>212</td>\n",
       "      <td>-0.918364</td>\n",
       "      <td>0.988443</td>\n",
       "      <td>0.920773</td>\n",
       "      <td>0.829208</td>\n",
       "      <td>1.046249</td>\n",
       "      <td>0.514484</td>\n",
       "      <td>0.687103</td>\n",
       "      <td>-0.699796</td>\n",
       "      <td>1.577609</td>\n",
       "      <td>...</td>\n",
       "      <td>0.811655</td>\n",
       "      <td>0.472111</td>\n",
       "      <td>0.324389</td>\n",
       "      <td>-0.480832</td>\n",
       "      <td>1.083981</td>\n",
       "      <td>0.489714</td>\n",
       "      <td>-0.342700</td>\n",
       "      <td>-1.104005</td>\n",
       "      <td>2.488852</td>\n",
       "      <td>3.926436</td>\n",
       "    </tr>\n",
       "    <tr>\n",
       "      <th>1355</th>\n",
       "      <td>261</td>\n",
       "      <td>-0.274120</td>\n",
       "      <td>0.366653</td>\n",
       "      <td>0.572997</td>\n",
       "      <td>0.429096</td>\n",
       "      <td>0.550117</td>\n",
       "      <td>-0.399426</td>\n",
       "      <td>-1.600317</td>\n",
       "      <td>1.298100</td>\n",
       "      <td>1.703004</td>\n",
       "      <td>...</td>\n",
       "      <td>-0.680223</td>\n",
       "      <td>2.561015</td>\n",
       "      <td>-4.098437</td>\n",
       "      <td>-2.077372</td>\n",
       "      <td>-2.725346</td>\n",
       "      <td>1.685065</td>\n",
       "      <td>2.187383</td>\n",
       "      <td>2.210670</td>\n",
       "      <td>2.900222</td>\n",
       "      <td>4.939088</td>\n",
       "    </tr>\n",
       "    <tr>\n",
       "      <th>339</th>\n",
       "      <td>340</td>\n",
       "      <td>1.336490</td>\n",
       "      <td>-0.947987</td>\n",
       "      <td>-0.914711</td>\n",
       "      <td>-0.951290</td>\n",
       "      <td>-0.747459</td>\n",
       "      <td>-0.007750</td>\n",
       "      <td>0.687103</td>\n",
       "      <td>-0.977281</td>\n",
       "      <td>-0.679487</td>\n",
       "      <td>...</td>\n",
       "      <td>0.005266</td>\n",
       "      <td>0.472111</td>\n",
       "      <td>0.324389</td>\n",
       "      <td>-0.671493</td>\n",
       "      <td>-0.466878</td>\n",
       "      <td>0.955079</td>\n",
       "      <td>-0.933381</td>\n",
       "      <td>0.664050</td>\n",
       "      <td>0.461703</td>\n",
       "      <td>-0.313721</td>\n",
       "    </tr>\n",
       "    <tr>\n",
       "      <th>862</th>\n",
       "      <td>133</td>\n",
       "      <td>-0.757303</td>\n",
       "      <td>1.183862</td>\n",
       "      <td>1.191266</td>\n",
       "      <td>0.989252</td>\n",
       "      <td>1.046249</td>\n",
       "      <td>-0.921660</td>\n",
       "      <td>-0.372921</td>\n",
       "      <td>1.742077</td>\n",
       "      <td>1.452215</td>\n",
       "      <td>...</td>\n",
       "      <td>-1.338448</td>\n",
       "      <td>0.139070</td>\n",
       "      <td>-0.051862</td>\n",
       "      <td>-0.649657</td>\n",
       "      <td>-0.541561</td>\n",
       "      <td>3.034833</td>\n",
       "      <td>5.286914</td>\n",
       "      <td>2.529871</td>\n",
       "      <td>2.108929</td>\n",
       "      <td>3.062619</td>\n",
       "    </tr>\n",
       "    <tr>\n",
       "      <th>265</th>\n",
       "      <td>266</td>\n",
       "      <td>0.477498</td>\n",
       "      <td>0.419950</td>\n",
       "      <td>0.321826</td>\n",
       "      <td>-0.331117</td>\n",
       "      <td>0.817265</td>\n",
       "      <td>0.253367</td>\n",
       "      <td>0.687103</td>\n",
       "      <td>-0.172573</td>\n",
       "      <td>-0.303304</td>\n",
       "      <td>...</td>\n",
       "      <td>-0.076847</td>\n",
       "      <td>0.472111</td>\n",
       "      <td>0.324389</td>\n",
       "      <td>-0.118576</td>\n",
       "      <td>-0.208401</td>\n",
       "      <td>0.029782</td>\n",
       "      <td>-0.005139</td>\n",
       "      <td>0.052342</td>\n",
       "      <td>0.091994</td>\n",
       "      <td>-0.027902</td>\n",
       "    </tr>\n",
       "  </tbody>\n",
       "</table>\n",
       "<p>5 rows × 75 columns</p>\n",
       "</div>"
      ],
      "text/plain": [
       "      day  pressure   maxtemp  temparature   mintemp  dewpoint  humidity  \\\n",
       "576   212 -0.918364  0.988443     0.920773  0.829208  1.046249  0.514484   \n",
       "1355  261 -0.274120  0.366653     0.572997  0.429096  0.550117 -0.399426   \n",
       "339   340  1.336490 -0.947987    -0.914711 -0.951290 -0.747459 -0.007750   \n",
       "862   133 -0.757303  1.183862     1.191266  0.989252  1.046249 -0.921660   \n",
       "265   266  0.477498  0.419950     0.321826 -0.331117  0.817265  0.253367   \n",
       "\n",
       "         cloud  sunshine  winddirection  ...  humidity_winddirection  \\\n",
       "576   0.687103 -0.699796       1.577609  ...                0.811655   \n",
       "1355 -1.600317  1.298100       1.703004  ...               -0.680223   \n",
       "339   0.687103 -0.977281      -0.679487  ...                0.005266   \n",
       "862  -0.372921  1.742077       1.452215  ...               -1.338448   \n",
       "265   0.687103 -0.172573      -0.303304  ...               -0.076847   \n",
       "\n",
       "        cloud2    cloud3  cloud_sunshine  cloud_winddirection  sunshine2  \\\n",
       "576   0.472111  0.324389       -0.480832             1.083981   0.489714   \n",
       "1355  2.561015 -4.098437       -2.077372            -2.725346   1.685065   \n",
       "339   0.472111  0.324389       -0.671493            -0.466878   0.955079   \n",
       "862   0.139070 -0.051862       -0.649657            -0.541561   3.034833   \n",
       "265   0.472111  0.324389       -0.118576            -0.208401   0.029782   \n",
       "\n",
       "      sunshine3  sunshine_winddirection  winddirection2  winddirection3  \n",
       "576   -0.342700               -1.104005        2.488852        3.926436  \n",
       "1355   2.187383                2.210670        2.900222        4.939088  \n",
       "339   -0.933381                0.664050        0.461703       -0.313721  \n",
       "862    5.286914                2.529871        2.108929        3.062619  \n",
       "265   -0.005139                0.052342        0.091994       -0.027902  \n",
       "\n",
       "[5 rows x 75 columns]"
      ]
     },
     "execution_count": 13,
     "metadata": {},
     "output_type": "execute_result"
    }
   ],
   "source": [
    "X_train_cool.head()"
   ]
  },
  {
   "cell_type": "markdown",
   "id": "6d6f949b",
   "metadata": {
    "papermill": {
     "duration": 0.008318,
     "end_time": "2025-03-13T01:39:26.243808",
     "exception": false,
     "start_time": "2025-03-13T01:39:26.235490",
     "status": "completed"
    },
    "tags": []
   },
   "source": [
    "# Logistic Regression Things"
   ]
  },
  {
   "cell_type": "code",
   "execution_count": 14,
   "id": "6e3ac144",
   "metadata": {
    "execution": {
     "iopub.execute_input": "2025-03-13T01:39:26.262382Z",
     "iopub.status.busy": "2025-03-13T01:39:26.261991Z",
     "iopub.status.idle": "2025-03-13T01:39:26.381895Z",
     "shell.execute_reply": "2025-03-13T01:39:26.380645Z"
    },
    "papermill": {
     "duration": 0.131664,
     "end_time": "2025-03-13T01:39:26.384028",
     "exception": false,
     "start_time": "2025-03-13T01:39:26.252364",
     "status": "completed"
    },
    "tags": []
   },
   "outputs": [],
   "source": [
    "from sklearn.linear_model import LogisticRegression\n",
    "from sklearn.metrics import roc_auc_score\n",
    "from sklearn.model_selection import GridSearchCV"
   ]
  },
  {
   "cell_type": "code",
   "execution_count": 15,
   "id": "17d567bc",
   "metadata": {
    "execution": {
     "iopub.execute_input": "2025-03-13T01:39:26.403842Z",
     "iopub.status.busy": "2025-03-13T01:39:26.403460Z",
     "iopub.status.idle": "2025-03-13T01:39:42.655845Z",
     "shell.execute_reply": "2025-03-13T01:39:42.654901Z"
    },
    "papermill": {
     "duration": 16.264229,
     "end_time": "2025-03-13T01:39:42.657810",
     "exception": false,
     "start_time": "2025-03-13T01:39:26.393581",
     "status": "completed"
    },
    "tags": []
   },
   "outputs": [
    {
     "name": "stderr",
     "output_type": "stream",
     "text": [
      "/usr/local/lib/python3.10/dist-packages/sklearn/linear_model/_logistic.py:458: ConvergenceWarning: lbfgs failed to converge (status=1):\n",
      "STOP: TOTAL NO. of ITERATIONS REACHED LIMIT.\n",
      "\n",
      "Increase the number of iterations (max_iter) or scale the data as shown in:\n",
      "    https://scikit-learn.org/stable/modules/preprocessing.html\n",
      "Please also refer to the documentation for alternative solver options:\n",
      "    https://scikit-learn.org/stable/modules/linear_model.html#logistic-regression\n",
      "  n_iter_i = _check_optimize_result(\n"
     ]
    }
   ],
   "source": [
    "# baseline model\n",
    "clf0 = LogisticRegression(random_state=42, max_iter=100).fit(X_train, y_train)\n",
    "\n",
    "# actual model\n",
    "clf = LogisticRegression(penalty='l1', solver='liblinear', random_state=42, max_iter=1000)\n",
    "\n",
    "param_grid = {'C': [0.001, 0.005, 0.01, 0.05, 0.1, 0.5, 1, 5, 10]}\n",
    "\n",
    "grid_search = GridSearchCV(\n",
    "    clf,\n",
    "    param_grid,\n",
    "    cv=10,\n",
    "    scoring='roc_auc'\n",
    ")\n",
    "\n",
    "grid_search.fit(X_train_cool, y_train)\n",
    "\n",
    "best_model = grid_search.best_estimator_"
   ]
  },
  {
   "cell_type": "code",
   "execution_count": 16,
   "id": "2e8fcbaf",
   "metadata": {
    "execution": {
     "iopub.execute_input": "2025-03-13T01:39:42.677377Z",
     "iopub.status.busy": "2025-03-13T01:39:42.676878Z",
     "iopub.status.idle": "2025-03-13T01:39:42.684823Z",
     "shell.execute_reply": "2025-03-13T01:39:42.683631Z"
    },
    "papermill": {
     "duration": 0.019528,
     "end_time": "2025-03-13T01:39:42.686648",
     "exception": false,
     "start_time": "2025-03-13T01:39:42.667120",
     "status": "completed"
    },
    "tags": []
   },
   "outputs": [],
   "source": [
    "feature_importance = pd.DataFrame({\n",
    "    'Feature': X_train_cool.columns,\n",
    "    'Coefficient': best_model.coef_[0]\n",
    "})\n",
    "selected_features = feature_importance[feature_importance['Coefficient'] != 0]['Feature']"
   ]
  },
  {
   "cell_type": "code",
   "execution_count": 17,
   "id": "bcfecc49",
   "metadata": {
    "execution": {
     "iopub.execute_input": "2025-03-13T01:39:42.705831Z",
     "iopub.status.busy": "2025-03-13T01:39:42.705444Z",
     "iopub.status.idle": "2025-03-13T01:39:42.717822Z",
     "shell.execute_reply": "2025-03-13T01:39:42.716509Z"
    },
    "papermill": {
     "duration": 0.024078,
     "end_time": "2025-03-13T01:39:42.719668",
     "exception": false,
     "start_time": "2025-03-13T01:39:42.695590",
     "status": "completed"
    },
    "tags": []
   },
   "outputs": [
    {
     "name": "stdout",
     "output_type": "stream",
     "text": [
      "LogisticRegression(C=0.1, max_iter=1000, penalty='l1', random_state=42,\n",
      "                   solver='liblinear')\n",
      "0                        day\n",
      "5                   dewpoint\n",
      "6                   humidity\n",
      "7                      cloud\n",
      "18              Log_sunshine\n",
      "20             Log_windspeed\n",
      "22                 pressure3\n",
      "28            pressure_cloud\n",
      "30    pressure_winddirection\n",
      "31                  maxtemp2\n",
      "32                  maxtemp3\n",
      "48                  mintemp2\n",
      "57         dewpoint_humidity\n",
      "61                 humidity2\n",
      "68            cloud_sunshine\n",
      "71                 sunshine3\n",
      "Name: Feature, dtype: object\n"
     ]
    }
   ],
   "source": [
    "print(best_model)\n",
    "print(selected_features)"
   ]
  },
  {
   "cell_type": "code",
   "execution_count": 18,
   "id": "490e4a70",
   "metadata": {
    "execution": {
     "iopub.execute_input": "2025-03-13T01:39:42.739824Z",
     "iopub.status.busy": "2025-03-13T01:39:42.739418Z",
     "iopub.status.idle": "2025-03-13T01:39:42.758481Z",
     "shell.execute_reply": "2025-03-13T01:39:42.757190Z"
    },
    "papermill": {
     "duration": 0.031104,
     "end_time": "2025-03-13T01:39:42.760425",
     "exception": false,
     "start_time": "2025-03-13T01:39:42.729321",
     "status": "completed"
    },
    "tags": []
   },
   "outputs": [
    {
     "name": "stdout",
     "output_type": "stream",
     "text": [
      "ROC AUC Score Baseline: 0.8749\n",
      "ROC AUC Score Good: 0.8721\n"
     ]
    }
   ],
   "source": [
    "y_val_probs = clf0.predict_proba(X_val)[:, 1]\n",
    "roc_auc = roc_auc_score(y_val, y_val_probs)\n",
    "print(f\"ROC AUC Score Baseline: {roc_auc:.4f}\")\n",
    "\n",
    "y_val_probs = best_model.predict_proba(X_val_cool)[:, 1]\n",
    "roc_auc = roc_auc_score(y_val, y_val_probs)\n",
    "print(f\"ROC AUC Score Good: {roc_auc:.4f}\")"
   ]
  },
  {
   "cell_type": "markdown",
   "id": "491dc94f",
   "metadata": {
    "papermill": {
     "duration": 0.008521,
     "end_time": "2025-03-13T01:39:42.778062",
     "exception": false,
     "start_time": "2025-03-13T01:39:42.769541",
     "status": "completed"
    },
    "tags": []
   },
   "source": [
    "# XGBoost Model"
   ]
  },
  {
   "cell_type": "markdown",
   "id": "b714e043",
   "metadata": {
    "papermill": {
     "duration": 0.008831,
     "end_time": "2025-03-13T01:39:42.796279",
     "exception": false,
     "start_time": "2025-03-13T01:39:42.787448",
     "status": "completed"
    },
    "tags": []
   },
   "source": [
    "## XGBoost - Simple"
   ]
  },
  {
   "cell_type": "code",
   "execution_count": 19,
   "id": "eada9c48",
   "metadata": {
    "execution": {
     "iopub.execute_input": "2025-03-13T01:39:42.815113Z",
     "iopub.status.busy": "2025-03-13T01:39:42.814711Z",
     "iopub.status.idle": "2025-03-13T01:39:43.099391Z",
     "shell.execute_reply": "2025-03-13T01:39:43.098239Z"
    },
    "papermill": {
     "duration": 0.296537,
     "end_time": "2025-03-13T01:39:43.101625",
     "exception": false,
     "start_time": "2025-03-13T01:39:42.805088",
     "status": "completed"
    },
    "tags": []
   },
   "outputs": [],
   "source": [
    "import xgboost as xgb\n",
    "from sklearn.metrics import roc_auc_score\n",
    "from sklearn.model_selection import GridSearchCV"
   ]
  },
  {
   "cell_type": "code",
   "execution_count": 20,
   "id": "6b8b27da",
   "metadata": {
    "execution": {
     "iopub.execute_input": "2025-03-13T01:39:43.121038Z",
     "iopub.status.busy": "2025-03-13T01:39:43.120661Z",
     "iopub.status.idle": "2025-03-13T01:39:43.125363Z",
     "shell.execute_reply": "2025-03-13T01:39:43.124239Z"
    },
    "papermill": {
     "duration": 0.015995,
     "end_time": "2025-03-13T01:39:43.127005",
     "exception": false,
     "start_time": "2025-03-13T01:39:43.111010",
     "status": "completed"
    },
    "tags": []
   },
   "outputs": [],
   "source": [
    "xgb_model = xgb.XGBClassifier(\n",
    "    objective='binary:logitraw',\n",
    "    eval_metric='auc',\n",
    "    use_label_encoder=False,\n",
    "    random_state=42\n",
    ")"
   ]
  },
  {
   "cell_type": "code",
   "execution_count": 21,
   "id": "3f47d844",
   "metadata": {
    "execution": {
     "iopub.execute_input": "2025-03-13T01:39:43.146346Z",
     "iopub.status.busy": "2025-03-13T01:39:43.145903Z",
     "iopub.status.idle": "2025-03-13T01:39:43.151317Z",
     "shell.execute_reply": "2025-03-13T01:39:43.150122Z"
    },
    "papermill": {
     "duration": 0.017036,
     "end_time": "2025-03-13T01:39:43.153167",
     "exception": false,
     "start_time": "2025-03-13T01:39:43.136131",
     "status": "completed"
    },
    "tags": []
   },
   "outputs": [],
   "source": [
    "param_grid = {\n",
    "    'learning_rate': [0.01, 0.05, 0.1],\n",
    "    'max_depth': [3, 5, 7, 9],\n",
    "    'n_estimators': [100, 150, 200],\n",
    "    'gamma': [0, 0.1, 0.05],\n",
    "    'min_child_weight': [1, 5]\n",
    "}"
   ]
  },
  {
   "cell_type": "code",
   "execution_count": 22,
   "id": "79879dbc",
   "metadata": {
    "execution": {
     "iopub.execute_input": "2025-03-13T01:39:43.172422Z",
     "iopub.status.busy": "2025-03-13T01:39:43.172060Z",
     "iopub.status.idle": "2025-03-13T01:39:43.176477Z",
     "shell.execute_reply": "2025-03-13T01:39:43.175562Z"
    },
    "papermill": {
     "duration": 0.015746,
     "end_time": "2025-03-13T01:39:43.178039",
     "exception": false,
     "start_time": "2025-03-13T01:39:43.162293",
     "status": "completed"
    },
    "tags": []
   },
   "outputs": [],
   "source": [
    "grid_search = GridSearchCV(\n",
    "    estimator=xgb_model,\n",
    "    param_grid=param_grid,\n",
    "    scoring='roc_auc',\n",
    "    cv=10,\n",
    "    verbose=1\n",
    ")\n",
    "\n",
    "# grid_search.fit(X_train_cool, y_train)\n",
    "# best_model = grid_search.best_estimator_"
   ]
  },
  {
   "cell_type": "code",
   "execution_count": 23,
   "id": "a0cff522",
   "metadata": {
    "execution": {
     "iopub.execute_input": "2025-03-13T01:39:43.197373Z",
     "iopub.status.busy": "2025-03-13T01:39:43.196996Z",
     "iopub.status.idle": "2025-03-13T01:39:43.200933Z",
     "shell.execute_reply": "2025-03-13T01:39:43.199905Z"
    },
    "papermill": {
     "duration": 0.015463,
     "end_time": "2025-03-13T01:39:43.202685",
     "exception": false,
     "start_time": "2025-03-13T01:39:43.187222",
     "status": "completed"
    },
    "tags": []
   },
   "outputs": [],
   "source": [
    "# best_params = grid_search.best_params_"
   ]
  },
  {
   "cell_type": "code",
   "execution_count": 24,
   "id": "ced0f8e9",
   "metadata": {
    "execution": {
     "iopub.execute_input": "2025-03-13T01:39:43.222785Z",
     "iopub.status.busy": "2025-03-13T01:39:43.222391Z",
     "iopub.status.idle": "2025-03-13T01:39:43.226530Z",
     "shell.execute_reply": "2025-03-13T01:39:43.225480Z"
    },
    "papermill": {
     "duration": 0.015877,
     "end_time": "2025-03-13T01:39:43.228121",
     "exception": false,
     "start_time": "2025-03-13T01:39:43.212244",
     "status": "completed"
    },
    "tags": []
   },
   "outputs": [],
   "source": [
    "# best_params"
   ]
  },
  {
   "cell_type": "code",
   "execution_count": 25,
   "id": "bc2fb30a",
   "metadata": {
    "execution": {
     "iopub.execute_input": "2025-03-13T01:39:43.247923Z",
     "iopub.status.busy": "2025-03-13T01:39:43.247545Z",
     "iopub.status.idle": "2025-03-13T01:39:43.251484Z",
     "shell.execute_reply": "2025-03-13T01:39:43.250505Z"
    },
    "papermill": {
     "duration": 0.015599,
     "end_time": "2025-03-13T01:39:43.252975",
     "exception": false,
     "start_time": "2025-03-13T01:39:43.237376",
     "status": "completed"
    },
    "tags": []
   },
   "outputs": [],
   "source": [
    "# y_pred_xgb = best_model.predict(X_val_cool)[:, 1]\n",
    "# roc_auc = roc_auc_score(y_val, y_pred_xgb)\n",
    "# print(f\"XGB Val Accuracy: {roc_auc:.4f}\")"
   ]
  },
  {
   "cell_type": "markdown",
   "id": "9bf127ec",
   "metadata": {
    "papermill": {
     "duration": 0.008577,
     "end_time": "2025-03-13T01:39:43.270422",
     "exception": false,
     "start_time": "2025-03-13T01:39:43.261845",
     "status": "completed"
    },
    "tags": []
   },
   "source": [
    "## XGBoost - Big Boy"
   ]
  },
  {
   "cell_type": "markdown",
   "id": "09fe16a6",
   "metadata": {
    "papermill": {
     "duration": 0.008481,
     "end_time": "2025-03-13T01:39:43.287799",
     "exception": false,
     "start_time": "2025-03-13T01:39:43.279318",
     "status": "completed"
    },
    "tags": []
   },
   "source": [
    "### What did we learn:\n",
    "we learned that the baseline logistic regression model is really really hard to beat holy wtf."
   ]
  },
  {
   "cell_type": "markdown",
   "id": "26dd8f0b",
   "metadata": {
    "papermill": {
     "duration": 0.008463,
     "end_time": "2025-03-13T01:39:43.305204",
     "exception": false,
     "start_time": "2025-03-13T01:39:43.296741",
     "status": "completed"
    },
    "tags": []
   },
   "source": [
    "## Submission"
   ]
  },
  {
   "cell_type": "code",
   "execution_count": 26,
   "id": "0437f4f4",
   "metadata": {
    "execution": {
     "iopub.execute_input": "2025-03-13T01:39:43.324449Z",
     "iopub.status.busy": "2025-03-13T01:39:43.323912Z",
     "iopub.status.idle": "2025-03-13T01:39:43.628929Z",
     "shell.execute_reply": "2025-03-13T01:39:43.627743Z"
    },
    "papermill": {
     "duration": 0.3168,
     "end_time": "2025-03-13T01:39:43.630855",
     "exception": false,
     "start_time": "2025-03-13T01:39:43.314055",
     "status": "completed"
    },
    "tags": []
   },
   "outputs": [],
   "source": [
    "X_cool = make_cool_features(X)"
   ]
  },
  {
   "cell_type": "code",
   "execution_count": 27,
   "id": "0982daca",
   "metadata": {
    "execution": {
     "iopub.execute_input": "2025-03-13T01:39:43.650260Z",
     "iopub.status.busy": "2025-03-13T01:39:43.649805Z",
     "iopub.status.idle": "2025-03-13T01:39:43.662532Z",
     "shell.execute_reply": "2025-03-13T01:39:43.661398Z"
    },
    "papermill": {
     "duration": 0.024627,
     "end_time": "2025-03-13T01:39:43.664543",
     "exception": false,
     "start_time": "2025-03-13T01:39:43.639916",
     "status": "completed"
    },
    "tags": []
   },
   "outputs": [],
   "source": [
    "df_test = pd.read_csv(\"/kaggle/input/playground-series-s5e3/test.csv\")"
   ]
  },
  {
   "cell_type": "code",
   "execution_count": 28,
   "id": "e7a41d8a",
   "metadata": {
    "execution": {
     "iopub.execute_input": "2025-03-13T01:39:43.684056Z",
     "iopub.status.busy": "2025-03-13T01:39:43.683619Z",
     "iopub.status.idle": "2025-03-13T01:39:43.695439Z",
     "shell.execute_reply": "2025-03-13T01:39:43.694334Z"
    },
    "papermill": {
     "duration": 0.02354,
     "end_time": "2025-03-13T01:39:43.697246",
     "exception": false,
     "start_time": "2025-03-13T01:39:43.673706",
     "status": "completed"
    },
    "tags": []
   },
   "outputs": [
    {
     "name": "stdout",
     "output_type": "stream",
     "text": [
      "<class 'pandas.core.frame.DataFrame'>\n",
      "RangeIndex: 730 entries, 0 to 729\n",
      "Data columns (total 12 columns):\n",
      " #   Column         Non-Null Count  Dtype  \n",
      "---  ------         --------------  -----  \n",
      " 0   id             730 non-null    int64  \n",
      " 1   day            730 non-null    int64  \n",
      " 2   pressure       730 non-null    float64\n",
      " 3   maxtemp        730 non-null    float64\n",
      " 4   temparature    730 non-null    float64\n",
      " 5   mintemp        730 non-null    float64\n",
      " 6   dewpoint       730 non-null    float64\n",
      " 7   humidity       730 non-null    float64\n",
      " 8   cloud          730 non-null    float64\n",
      " 9   sunshine       730 non-null    float64\n",
      " 10  winddirection  729 non-null    float64\n",
      " 11  windspeed      730 non-null    float64\n",
      "dtypes: float64(10), int64(2)\n",
      "memory usage: 68.6 KB\n"
     ]
    }
   ],
   "source": [
    "df_test.info()"
   ]
  },
  {
   "cell_type": "code",
   "execution_count": 29,
   "id": "7d5d4386",
   "metadata": {
    "execution": {
     "iopub.execute_input": "2025-03-13T01:39:43.716508Z",
     "iopub.status.busy": "2025-03-13T01:39:43.716144Z",
     "iopub.status.idle": "2025-03-13T01:39:43.841174Z",
     "shell.execute_reply": "2025-03-13T01:39:43.840130Z"
    },
    "papermill": {
     "duration": 0.136368,
     "end_time": "2025-03-13T01:39:43.842725",
     "exception": false,
     "start_time": "2025-03-13T01:39:43.706357",
     "status": "completed"
    },
    "tags": []
   },
   "outputs": [
    {
     "data": {
      "text/html": [
       "<div>\n",
       "<style scoped>\n",
       "    .dataframe tbody tr th:only-of-type {\n",
       "        vertical-align: middle;\n",
       "    }\n",
       "\n",
       "    .dataframe tbody tr th {\n",
       "        vertical-align: top;\n",
       "    }\n",
       "\n",
       "    .dataframe thead th {\n",
       "        text-align: right;\n",
       "    }\n",
       "</style>\n",
       "<table border=\"1\" class=\"dataframe\">\n",
       "  <thead>\n",
       "    <tr style=\"text-align: right;\">\n",
       "      <th></th>\n",
       "      <th>id</th>\n",
       "      <th>day</th>\n",
       "      <th>pressure</th>\n",
       "      <th>maxtemp</th>\n",
       "      <th>temparature</th>\n",
       "      <th>mintemp</th>\n",
       "      <th>dewpoint</th>\n",
       "      <th>humidity</th>\n",
       "      <th>cloud</th>\n",
       "      <th>sunshine</th>\n",
       "      <th>winddirection</th>\n",
       "      <th>windspeed</th>\n",
       "    </tr>\n",
       "  </thead>\n",
       "  <tbody>\n",
       "    <tr>\n",
       "      <th>count</th>\n",
       "      <td>730.000000</td>\n",
       "      <td>730.000000</td>\n",
       "      <td>730.000000</td>\n",
       "      <td>730.000000</td>\n",
       "      <td>730.000000</td>\n",
       "      <td>730.000000</td>\n",
       "      <td>730.000000</td>\n",
       "      <td>730.000000</td>\n",
       "      <td>730.000000</td>\n",
       "      <td>730.000000</td>\n",
       "      <td>729.000000</td>\n",
       "      <td>730.000000</td>\n",
       "    </tr>\n",
       "    <tr>\n",
       "      <th>mean</th>\n",
       "      <td>2554.500000</td>\n",
       "      <td>183.000000</td>\n",
       "      <td>1013.503014</td>\n",
       "      <td>26.372466</td>\n",
       "      <td>23.963288</td>\n",
       "      <td>22.110274</td>\n",
       "      <td>20.460137</td>\n",
       "      <td>82.669863</td>\n",
       "      <td>76.360274</td>\n",
       "      <td>3.664384</td>\n",
       "      <td>103.923182</td>\n",
       "      <td>22.484247</td>\n",
       "    </tr>\n",
       "    <tr>\n",
       "      <th>std</th>\n",
       "      <td>210.877136</td>\n",
       "      <td>105.438271</td>\n",
       "      <td>5.505871</td>\n",
       "      <td>5.672521</td>\n",
       "      <td>5.278098</td>\n",
       "      <td>5.170744</td>\n",
       "      <td>5.391169</td>\n",
       "      <td>7.818714</td>\n",
       "      <td>17.934121</td>\n",
       "      <td>3.639272</td>\n",
       "      <td>81.695458</td>\n",
       "      <td>9.954779</td>\n",
       "    </tr>\n",
       "    <tr>\n",
       "      <th>min</th>\n",
       "      <td>2190.000000</td>\n",
       "      <td>1.000000</td>\n",
       "      <td>1000.000000</td>\n",
       "      <td>7.400000</td>\n",
       "      <td>5.900000</td>\n",
       "      <td>4.200000</td>\n",
       "      <td>-0.000000</td>\n",
       "      <td>39.000000</td>\n",
       "      <td>0.000000</td>\n",
       "      <td>0.000000</td>\n",
       "      <td>10.000000</td>\n",
       "      <td>4.500000</td>\n",
       "    </tr>\n",
       "    <tr>\n",
       "      <th>25%</th>\n",
       "      <td>2372.250000</td>\n",
       "      <td>92.000000</td>\n",
       "      <td>1008.725000</td>\n",
       "      <td>21.600000</td>\n",
       "      <td>19.825000</td>\n",
       "      <td>17.825000</td>\n",
       "      <td>16.800000</td>\n",
       "      <td>77.250000</td>\n",
       "      <td>69.000000</td>\n",
       "      <td>0.325000</td>\n",
       "      <td>40.000000</td>\n",
       "      <td>14.500000</td>\n",
       "    </tr>\n",
       "    <tr>\n",
       "      <th>50%</th>\n",
       "      <td>2554.500000</td>\n",
       "      <td>183.000000</td>\n",
       "      <td>1012.700000</td>\n",
       "      <td>27.800000</td>\n",
       "      <td>25.650000</td>\n",
       "      <td>23.900000</td>\n",
       "      <td>22.300000</td>\n",
       "      <td>82.000000</td>\n",
       "      <td>83.000000</td>\n",
       "      <td>2.200000</td>\n",
       "      <td>70.000000</td>\n",
       "      <td>21.300000</td>\n",
       "    </tr>\n",
       "    <tr>\n",
       "      <th>75%</th>\n",
       "      <td>2736.750000</td>\n",
       "      <td>274.000000</td>\n",
       "      <td>1017.600000</td>\n",
       "      <td>31.000000</td>\n",
       "      <td>28.375000</td>\n",
       "      <td>26.400000</td>\n",
       "      <td>25.000000</td>\n",
       "      <td>89.000000</td>\n",
       "      <td>88.000000</td>\n",
       "      <td>6.675000</td>\n",
       "      <td>200.000000</td>\n",
       "      <td>28.400000</td>\n",
       "    </tr>\n",
       "    <tr>\n",
       "      <th>max</th>\n",
       "      <td>2919.000000</td>\n",
       "      <td>365.000000</td>\n",
       "      <td>1032.200000</td>\n",
       "      <td>35.800000</td>\n",
       "      <td>31.800000</td>\n",
       "      <td>29.100000</td>\n",
       "      <td>26.700000</td>\n",
       "      <td>98.000000</td>\n",
       "      <td>100.000000</td>\n",
       "      <td>11.800000</td>\n",
       "      <td>300.000000</td>\n",
       "      <td>59.500000</td>\n",
       "    </tr>\n",
       "  </tbody>\n",
       "</table>\n",
       "</div>"
      ],
      "text/plain": [
       "                id         day     pressure     maxtemp  temparature  \\\n",
       "count   730.000000  730.000000   730.000000  730.000000   730.000000   \n",
       "mean   2554.500000  183.000000  1013.503014   26.372466    23.963288   \n",
       "std     210.877136  105.438271     5.505871    5.672521     5.278098   \n",
       "min    2190.000000    1.000000  1000.000000    7.400000     5.900000   \n",
       "25%    2372.250000   92.000000  1008.725000   21.600000    19.825000   \n",
       "50%    2554.500000  183.000000  1012.700000   27.800000    25.650000   \n",
       "75%    2736.750000  274.000000  1017.600000   31.000000    28.375000   \n",
       "max    2919.000000  365.000000  1032.200000   35.800000    31.800000   \n",
       "\n",
       "          mintemp    dewpoint    humidity       cloud    sunshine  \\\n",
       "count  730.000000  730.000000  730.000000  730.000000  730.000000   \n",
       "mean    22.110274   20.460137   82.669863   76.360274    3.664384   \n",
       "std      5.170744    5.391169    7.818714   17.934121    3.639272   \n",
       "min      4.200000   -0.000000   39.000000    0.000000    0.000000   \n",
       "25%     17.825000   16.800000   77.250000   69.000000    0.325000   \n",
       "50%     23.900000   22.300000   82.000000   83.000000    2.200000   \n",
       "75%     26.400000   25.000000   89.000000   88.000000    6.675000   \n",
       "max     29.100000   26.700000   98.000000  100.000000   11.800000   \n",
       "\n",
       "       winddirection   windspeed  \n",
       "count     729.000000  730.000000  \n",
       "mean      103.923182   22.484247  \n",
       "std        81.695458    9.954779  \n",
       "min        10.000000    4.500000  \n",
       "25%        40.000000   14.500000  \n",
       "50%        70.000000   21.300000  \n",
       "75%       200.000000   28.400000  \n",
       "max       300.000000   59.500000  "
      ]
     },
     "execution_count": 29,
     "metadata": {},
     "output_type": "execute_result"
    }
   ],
   "source": [
    "df_test.describe()"
   ]
  },
  {
   "cell_type": "code",
   "execution_count": 30,
   "id": "f32ed550",
   "metadata": {
    "execution": {
     "iopub.execute_input": "2025-03-13T01:39:43.862515Z",
     "iopub.status.busy": "2025-03-13T01:39:43.862140Z",
     "iopub.status.idle": "2025-03-13T01:39:44.000483Z",
     "shell.execute_reply": "2025-03-13T01:39:43.999332Z"
    },
    "papermill": {
     "duration": 0.150219,
     "end_time": "2025-03-13T01:39:44.002386",
     "exception": false,
     "start_time": "2025-03-13T01:39:43.852167",
     "status": "completed"
    },
    "tags": []
   },
   "outputs": [],
   "source": [
    "df_test = df_test.fillna(0)\n",
    "scaler_test = StandardScaler()\n",
    "df_test_cool = make_cool_features(df_test)"
   ]
  },
  {
   "cell_type": "code",
   "execution_count": 31,
   "id": "29f6aed4",
   "metadata": {
    "execution": {
     "iopub.execute_input": "2025-03-13T01:39:44.022967Z",
     "iopub.status.busy": "2025-03-13T01:39:44.022606Z",
     "iopub.status.idle": "2025-03-13T01:39:44.584908Z",
     "shell.execute_reply": "2025-03-13T01:39:44.582044Z"
    },
    "papermill": {
     "duration": 0.575237,
     "end_time": "2025-03-13T01:39:44.587091",
     "exception": false,
     "start_time": "2025-03-13T01:39:44.011854",
     "status": "completed"
    },
    "tags": []
   },
   "outputs": [
    {
     "name": "stdout",
     "output_type": "stream",
     "text": [
      "XGB Val Accuracy: 0.8046\n"
     ]
    }
   ],
   "source": [
    "best_model = xgb.XGBClassifier(\n",
    "    objective='binary:logitraw',\n",
    "    eval_metric='auc',\n",
    "    use_label_encoder=False,\n",
    "    random_state=42,\n",
    "    gamma = 0,\n",
    "    learning_rate = 0.01,\n",
    "    max_depth = 3,\n",
    "    min_child_weight = 5,\n",
    "    n_estimators = 200\n",
    ")\n",
    "best_model.fit(X_cool, y)\n",
    "\n",
    "y_pred_xgb = best_model.predict(X_val_cool)\n",
    "roc_auc = roc_auc_score(y_val, y_pred_xgb)\n",
    "print(f\"XGB Val Accuracy: {roc_auc:.4f}\")"
   ]
  },
  {
   "cell_type": "code",
   "execution_count": 32,
   "id": "2cdaa43f",
   "metadata": {
    "execution": {
     "iopub.execute_input": "2025-03-13T01:39:44.609559Z",
     "iopub.status.busy": "2025-03-13T01:39:44.608814Z",
     "iopub.status.idle": "2025-03-13T01:39:44.628663Z",
     "shell.execute_reply": "2025-03-13T01:39:44.627654Z"
    },
    "papermill": {
     "duration": 0.034852,
     "end_time": "2025-03-13T01:39:44.633283",
     "exception": false,
     "start_time": "2025-03-13T01:39:44.598431",
     "status": "completed"
    },
    "tags": []
   },
   "outputs": [],
   "source": [
    "y_pred = best_model.predict(df_test_cool.drop(columns=[\"id\"]))\n",
    "df_test['rainfall'] = y_pred"
   ]
  },
  {
   "cell_type": "code",
   "execution_count": 33,
   "id": "8b8ab3ea",
   "metadata": {
    "execution": {
     "iopub.execute_input": "2025-03-13T01:39:44.655722Z",
     "iopub.status.busy": "2025-03-13T01:39:44.655365Z",
     "iopub.status.idle": "2025-03-13T01:39:44.659189Z",
     "shell.execute_reply": "2025-03-13T01:39:44.658244Z"
    },
    "papermill": {
     "duration": 0.015537,
     "end_time": "2025-03-13T01:39:44.660743",
     "exception": false,
     "start_time": "2025-03-13T01:39:44.645206",
     "status": "completed"
    },
    "tags": []
   },
   "outputs": [],
   "source": [
    "# y_pred = best_model.predict_proba(df_test_cool.drop(columns=[\"id\"]))[:, 1]\n",
    "# df_test[\"rainfall\"] = y_pred\n",
    "# df_test.head() "
   ]
  },
  {
   "cell_type": "code",
   "execution_count": 34,
   "id": "41181c1f",
   "metadata": {
    "execution": {
     "iopub.execute_input": "2025-03-13T01:39:44.680414Z",
     "iopub.status.busy": "2025-03-13T01:39:44.679977Z",
     "iopub.status.idle": "2025-03-13T01:39:44.695766Z",
     "shell.execute_reply": "2025-03-13T01:39:44.694430Z"
    },
    "papermill": {
     "duration": 0.027767,
     "end_time": "2025-03-13T01:39:44.697644",
     "exception": false,
     "start_time": "2025-03-13T01:39:44.669877",
     "status": "completed"
    },
    "tags": []
   },
   "outputs": [
    {
     "data": {
      "text/html": [
       "<div>\n",
       "<style scoped>\n",
       "    .dataframe tbody tr th:only-of-type {\n",
       "        vertical-align: middle;\n",
       "    }\n",
       "\n",
       "    .dataframe tbody tr th {\n",
       "        vertical-align: top;\n",
       "    }\n",
       "\n",
       "    .dataframe thead th {\n",
       "        text-align: right;\n",
       "    }\n",
       "</style>\n",
       "<table border=\"1\" class=\"dataframe\">\n",
       "  <thead>\n",
       "    <tr style=\"text-align: right;\">\n",
       "      <th></th>\n",
       "      <th>id</th>\n",
       "      <th>rainfall</th>\n",
       "    </tr>\n",
       "  </thead>\n",
       "  <tbody>\n",
       "    <tr>\n",
       "      <th>0</th>\n",
       "      <td>2190</td>\n",
       "      <td>1</td>\n",
       "    </tr>\n",
       "    <tr>\n",
       "      <th>1</th>\n",
       "      <td>2191</td>\n",
       "      <td>1</td>\n",
       "    </tr>\n",
       "    <tr>\n",
       "      <th>2</th>\n",
       "      <td>2192</td>\n",
       "      <td>1</td>\n",
       "    </tr>\n",
       "    <tr>\n",
       "      <th>3</th>\n",
       "      <td>2193</td>\n",
       "      <td>0</td>\n",
       "    </tr>\n",
       "    <tr>\n",
       "      <th>4</th>\n",
       "      <td>2194</td>\n",
       "      <td>0</td>\n",
       "    </tr>\n",
       "  </tbody>\n",
       "</table>\n",
       "</div>"
      ],
      "text/plain": [
       "     id  rainfall\n",
       "0  2190         1\n",
       "1  2191         1\n",
       "2  2192         1\n",
       "3  2193         0\n",
       "4  2194         0"
      ]
     },
     "execution_count": 34,
     "metadata": {},
     "output_type": "execute_result"
    }
   ],
   "source": [
    "submission = df_test[[\"id\", \"rainfall\"]]\n",
    "submission.to_csv(\"submission.csv\", index=False)\n",
    "submission.head()"
   ]
  },
  {
   "cell_type": "code",
   "execution_count": null,
   "id": "7d9d6824",
   "metadata": {
    "papermill": {
     "duration": 0.009434,
     "end_time": "2025-03-13T01:39:44.717167",
     "exception": false,
     "start_time": "2025-03-13T01:39:44.707733",
     "status": "completed"
    },
    "tags": []
   },
   "outputs": [],
   "source": []
  }
 ],
 "metadata": {
  "kaggle": {
   "accelerator": "none",
   "dataSources": [
    {
     "databundleVersionId": 11251744,
     "sourceId": 91714,
     "sourceType": "competition"
    }
   ],
   "dockerImageVersionId": 30918,
   "isGpuEnabled": false,
   "isInternetEnabled": true,
   "language": "python",
   "sourceType": "notebook"
  },
  "kernelspec": {
   "display_name": "Python 3",
   "language": "python",
   "name": "python3"
  },
  "language_info": {
   "codemirror_mode": {
    "name": "ipython",
    "version": 3
   },
   "file_extension": ".py",
   "mimetype": "text/x-python",
   "name": "python",
   "nbconvert_exporter": "python",
   "pygments_lexer": "ipython3",
   "version": "3.10.12"
  },
  "papermill": {
   "default_parameters": {},
   "duration": 26.095765,
   "end_time": "2025-03-13T01:39:45.548248",
   "environment_variables": {},
   "exception": null,
   "input_path": "__notebook__.ipynb",
   "output_path": "__notebook__.ipynb",
   "parameters": {},
   "start_time": "2025-03-13T01:39:19.452483",
   "version": "2.6.0"
  }
 },
 "nbformat": 4,
 "nbformat_minor": 5
}
